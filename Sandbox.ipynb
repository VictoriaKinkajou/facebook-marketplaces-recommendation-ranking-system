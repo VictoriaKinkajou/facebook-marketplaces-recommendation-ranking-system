{
 "cells": [
  {
   "attachments": {},
   "cell_type": "markdown",
   "metadata": {},
   "source": [
    "# Dataframes Sandbox"
   ]
  },
  {
   "cell_type": "code",
   "execution_count": 41,
   "metadata": {},
   "outputs": [
    {
     "name": "stdout",
     "output_type": "stream",
     "text": [
      "<class 'pandas.core.frame.DataFrame'>\n",
      "RangeIndex: 7156 entries, 0 to 7155\n",
      "Data columns (total 8 columns):\n",
      " #   Column               Non-Null Count  Dtype \n",
      "---  ------               --------------  ----- \n",
      " 0   Unnamed: 0           7156 non-null   int64 \n",
      " 1   id                   7156 non-null   object\n",
      " 2   product_name         7156 non-null   object\n",
      " 3   category             7156 non-null   object\n",
      " 4   product_description  7156 non-null   object\n",
      " 5   price                7156 non-null   object\n",
      " 6   location             7156 non-null   object\n",
      " 7   root category        7156 non-null   object\n",
      "dtypes: int64(1), object(7)\n",
      "memory usage: 447.4+ KB\n"
     ]
    }
   ],
   "source": [
    "import pandas as pd\n",
    "\n",
    "csv_file = 'Products.csv'\n",
    "df_products = pd.read_csv(csv_file, lineterminator='\\n')\n",
    "'''1. Take root category and put it in new column'''\n",
    "df_products['root category'] = df_products['category'].apply(lambda x: x.split(' / ')[1])\n",
    "df_categories = df_products\n",
    "df_categories.info()\n",
    "#df_products = df_products['root category']\n"
   ]
  },
  {
   "cell_type": "code",
   "execution_count": 31,
   "metadata": {},
   "outputs": [
    {
     "name": "stdout",
     "output_type": "stream",
     "text": [
      "115\n"
     ]
    }
   ],
   "source": [
    "'''Take the \"root category\" column and convert it to a set, to remove duplicates'''\n",
    "category_series = df_products['root category']\n",
    "category_set = set(category_series)\n",
    "print(len(category_set))\n"
   ]
  },
  {
   "cell_type": "code",
   "execution_count": 32,
   "metadata": {},
   "outputs": [
    {
     "name": "stdout",
     "output_type": "stream",
     "text": [
      "{'Health & Beauty Appliances': 1, \"Men's Watches\": 2, 'Power Tools': 3, 'Massage Products': 4, 'Tumble Dryers': 5, 'Changing': 6, 'Luggage & Travel Equipment': 7, 'Boxing & Martial Arts Equipment': 8, 'Integrated Appliances': 9, 'Other Sports & Leisure': 10, 'Hair Care & Styling': 11, 'Baby Clothes': 12, 'Doors & Windows': 13, 'Plumbing & Central Heating': 14, 'Bath & Body': 15, 'Fragrances': 16, 'Supplies, Equipment & Stationery': 17, 'Shaving & Hair Removal': 18, 'Watches': 19, 'Other Household Goods': 20, 'Water Sports': 21, 'Home Appliances': 22, 'Ovens, Hobs & Cookers': 23, 'Retail & Shop Fittings': 24, 'Video Game Accessories': 25, 'Mobility, Disability & Medical': 26, 'Wedding Clothes & Accessories': 27, 'Screws & Fixings': 28, 'Hobbies, Interests & Collectibles': 29, 'Make Up & Cosmetics': 30, 'Building Materials': 31, 'Mobile Phone Accessories': 32, 'SIM Cards': 33, 'Bicycles': 34, 'Facial Skin Care': 35, 'Computers, Laptops & Netbooks': 36, 'Washing Machines': 37, 'Smart Watch': 38, 'Washer Dryers': 39, 'Jewellery': 40, 'Tool Storage & Workbenches': 41, 'Dishwashers': 42, 'Diet & Weight Loss': 43, 'Sun Care & Tanning': 44, 'Business For Sale': 45, \"Women's Shoes\": 46, \"Men's Shoes & Boots\": 47, 'Fitness & Gym Equipment': 48, 'Dining, Living Room Furniture': 49, 'Refrigerators': 50, 'Health Care': 51, \"Nursery & Children's Furniture\": 52, 'Other': 53, 'Scrapbooking, Sewing, Art, Craft': 54, 'Manicure & Pedicure': 55, 'Baby & Child Safety': 56, 'Electric scooters': 57, 'Kids Clothes, Shoes & Accessories': 58, 'Outdoor Toys': 59, 'Protective Clothing & Workwear': 60, 'Car Seats & Baby Carriers': 61, 'Inline Skates & Skateboards': 62, 'Hand Tools': 63, 'Garden Power Tools': 64, 'Freezers': 65, 'Games & Board Games': 66, 'Camping & Hiking': 67, 'Winter Sports': 68, 'Antiques': 69, 'Health & Beauty': 70, 'Bicycle Accessories': 71, 'Drones': 72, 'Golf Equipment': 73, \"Men's Accessories\": 74, 'Tattoo & Body Art': 75, 'Radio Communication Equipment': 76, 'Other Video Games & Consoles': 77, 'Sunglasses': 78, 'Other Music, Films, Books & Games': 79, 'Prams & Strollers': 80, 'Toys': 81, 'Vitamins & Supplements': 82, 'Other Appliances': 83, 'Music': 84, 'Ladders & Handtrucks': 85, 'Bathroom Fixtures': 86, 'Feeding': 87, 'Aquariums': 88, 'Films & TV': 89, 'Office Furniture': 90, 'Fishing Equipment': 91, 'Gaming Merchandise': 92, 'Mobile Phones': 93, \"Men's Clothing\": 94, 'Games': 95, 'Garden & Patio': 96, 'Scooters': 97, 'Beds & Bedroom Furniture': 98, \"Women's Accessories\": 99, 'Restaurant & Catering Equipment': 100, 'Packaging & Mailing Supplies': 101, 'Books, Comics & Magazines': 102, 'Home Phones & Answering Machines': 103, 'Ball & Racquet Sport Equipment': 104, 'Kitchenware & Accessories': 105, 'Garden Hand Tools': 106, 'Consoles': 107, 'Small Appliances': 108, 'Wood & Timber': 109, 'Dental Care': 110, 'Baby Bouncers, Rockers & Swings': 111, 'Software': 112, 'Electric bikes': 113, 'Fridge Freezers': 114, \"Women's Clothing\": 115}\n"
     ]
    }
   ],
   "source": [
    "encoder = {val: idx + 1 for idx, val in enumerate(category_set)}\n",
    "print(encoder)"
   ]
  },
  {
   "cell_type": "code",
   "execution_count": 56,
   "metadata": {},
   "outputs": [
    {
     "name": "stdout",
     "output_type": "stream",
     "text": [
      "['Unnamed: 0', 'product_id', 'product_name', 'category', 'product_description', 'price', 'location', 'root category']\n"
     ]
    }
   ],
   "source": [
    "'''I have to rename the column \"id\" in df_categories to \"product_id\" \n",
    "to match up with the data in df_images, so I can merge the dataframes'''\n",
    "\n",
    "df_categories.rename(columns={'id': 'product_id'}, inplace=True)\n",
    "#df_categories.info()\n",
    "print(df_categories.columns.tolist())\n"
   ]
  },
  {
   "cell_type": "code",
   "execution_count": 64,
   "metadata": {},
   "outputs": [
    {
     "name": "stdout",
     "output_type": "stream",
     "text": [
      "['Unnamed: 0', 'id', 'product_id']\n",
      "<class 'pandas.core.frame.DataFrame'>\n",
      "Int64Index: 12604 entries, 0 to 12603\n",
      "Data columns (total 10 columns):\n",
      " #   Column               Non-Null Count  Dtype \n",
      "---  ------               --------------  ----- \n",
      " 0   Unnamed: 0_x         12604 non-null  int64 \n",
      " 1   product_id           12604 non-null  object\n",
      " 2   product_name         12604 non-null  object\n",
      " 3   category             12604 non-null  object\n",
      " 4   product_description  12604 non-null  object\n",
      " 5   price                12604 non-null  object\n",
      " 6   location             12604 non-null  object\n",
      " 7   root category        12604 non-null  object\n",
      " 8   Unnamed: 0_y         12604 non-null  int64 \n",
      " 9   id                   12604 non-null  object\n",
      "dtypes: int64(2), object(8)\n",
      "memory usage: 1.1+ MB\n"
     ]
    }
   ],
   "source": [
    "#df_products = pd.read_csv('Products.csv', lineterminator='\\n')\n",
    "df_images = pd.read_csv('Images.csv')\n",
    "print(df_images.columns.tolist())\n",
    "#df_categories.info()\n",
    "merged_df = pd.merge(df_categories, df_images, on='product_id')\n",
    "\n",
    "merged_df.info()\n"
   ]
  },
  {
   "cell_type": "code",
   "execution_count": 71,
   "metadata": {},
   "outputs": [
    {
     "name": "stdout",
     "output_type": "stream",
     "text": [
      "<class 'pandas.core.frame.DataFrame'>\n",
      "Int64Index: 12604 entries, 0 to 12603\n",
      "Data columns (total 3 columns):\n",
      " #   Column         Non-Null Count  Dtype \n",
      "---  ------         --------------  ----- \n",
      " 0   Unnamed: 0_x   12604 non-null  int64 \n",
      " 1   root category  12604 non-null  object\n",
      " 2   id             12604 non-null  object\n",
      "dtypes: int64(1), object(2)\n",
      "memory usage: 651.9+ KB\n"
     ]
    }
   ],
   "source": [
    "'''This code removes the irrelevant columns and creates new dataframe with just product_id, root category and image id'''\n",
    "training_data_df = merged_df.drop(['product_id', 'product_name', 'category', 'product_description', 'price', 'location', 'Unnamed: 0_y'], axis=1)\n",
    "#training_data_df.info()\n",
    "#print(training_data_df)\n",
    "training_data_df.info()\n",
    "training_data_df.to_csv('training_data.csv')"
   ]
  },
  {
   "cell_type": "code",
   "execution_count": 4,
   "metadata": {},
   "outputs": [
    {
     "name": "stdout",
     "output_type": "stream",
     "text": [
      "size of image:  (800, 600)\n",
      "size of image:  (750, 1020)\n",
      "size of image:  (389, 800)\n",
      "size of image:  (768, 1024)\n",
      "size of image:  (600, 800)\n",
      "size of image:  (1024, 686)\n",
      "size of image:  (1024, 768)\n",
      "size of image:  (576, 1024)\n",
      "size of image:  (600, 800)\n",
      "size of image:  (1024, 768)\n"
     ]
    }
   ],
   "source": [
    "from PIL import Image\n",
    "import os\n",
    "\n",
    "#image_a = \"images_fb/00a13f7d-b1ef-4754-8a99-3bebdf4604bb.jpg\"\n",
    "path = \"images_fb/\"\n",
    "dirs = os.listdir(path)\n",
    "\n",
    "for n, item in enumerate(dirs[:10], 1):\n",
    "        im = Image.open('images_fb/' + item)\n",
    "        print('size of image: ', im.size)\n",
    "        im.close()\n"
   ]
  }
 ],
 "metadata": {
  "kernelspec": {
   "display_name": "pandas_env",
   "language": "python",
   "name": "python3"
  },
  "language_info": {
   "codemirror_mode": {
    "name": "ipython",
    "version": 3
   },
   "file_extension": ".py",
   "mimetype": "text/x-python",
   "name": "python",
   "nbconvert_exporter": "python",
   "pygments_lexer": "ipython3",
   "version": "3.10.9"
  },
  "orig_nbformat": 4,
  "vscode": {
   "interpreter": {
    "hash": "28c35914935a1ae6778dfac48835a65e6487ec94762ac3f3ea68a8edd4ca0d96"
   }
  }
 },
 "nbformat": 4,
 "nbformat_minor": 2
}
